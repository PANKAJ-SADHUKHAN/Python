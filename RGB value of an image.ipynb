{
 "cells": [
  {
   "cell_type": "code",
   "execution_count": 1,
   "id": "698e7da6",
   "metadata": {},
   "outputs": [
    {
     "name": "stdout",
     "output_type": "stream",
     "text": [
      "Requirement already satisfied: pillow in c:\\users\\pankaj\\appdata\\local\\programs\\python\\python311\\lib\\site-packages (9.4.0)\n",
      "Note: you may need to restart the kernel to use updated packages.\n"
     ]
    }
   ],
   "source": [
    "pip install pillow"
   ]
  },
  {
   "cell_type": "code",
   "execution_count": 1,
   "id": "e28129a2",
   "metadata": {},
   "outputs": [
    {
     "name": "stdout",
     "output_type": "stream",
     "text": [
      "(83.30051326017376, 83.30051326017376, 83.30051326017376)\n"
     ]
    }
   ],
   "source": [
    "# Import Module\n",
    "from PIL import Image\n",
    "\n",
    "def most_common_used_color(img):\n",
    "\t# Get width and height of Image\n",
    "\twidth, height = img.size\n",
    "\n",
    "\t# Initialize Variable\n",
    "\tr_total = 0\n",
    "\tg_total = 0\n",
    "\tb_total = 0\n",
    "\n",
    "\tcount = 0\n",
    "\n",
    "\t# Iterate through each pixel\n",
    "\tfor x in range(0, width):\n",
    "\t\tfor y in range(0, height):\n",
    "\t\t\t# r,g,b value of pixel\n",
    "\t\t\tr, g, b = img.getpixel((x, y))\n",
    "\n",
    "\t\t\tr_total += r\n",
    "\t\t\tg_total += g\n",
    "\t\t\tb_total += b\n",
    "\t\t\tcount += 1\n",
    "\n",
    "\treturn (r_total/count, g_total/count, b_total/count)\n",
    "\n",
    "# Read Image\n",
    "img = Image.open(r'selfi.jpg')\n",
    "\n",
    "# Convert Image into RGB\n",
    "img = img.convert('RGB')\n",
    "\n",
    "# call function\n",
    "common_color = most_common_used_color(img)\n",
    "\n",
    "print(common_color)\n",
    "# Output is (R, G, B)\n"
   ]
  },
  {
   "cell_type": "code",
   "execution_count": null,
   "id": "8844d8e0",
   "metadata": {},
   "outputs": [],
   "source": []
  }
 ],
 "metadata": {
  "kernelspec": {
   "display_name": "Python 3 (ipykernel)",
   "language": "python",
   "name": "python3"
  },
  "language_info": {
   "codemirror_mode": {
    "name": "ipython",
    "version": 3
   },
   "file_extension": ".py",
   "mimetype": "text/x-python",
   "name": "python",
   "nbconvert_exporter": "python",
   "pygments_lexer": "ipython3",
   "version": "3.11.2"
  }
 },
 "nbformat": 4,
 "nbformat_minor": 5
}
