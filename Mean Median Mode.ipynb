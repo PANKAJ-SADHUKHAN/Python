{
 "cells": [
  {
   "cell_type": "code",
   "execution_count": 1,
   "id": "dc2a5beb",
   "metadata": {},
   "outputs": [],
   "source": [
    "import numpy as np"
   ]
  },
  {
   "cell_type": "code",
   "execution_count": 18,
   "id": "ab1912e4",
   "metadata": {},
   "outputs": [],
   "source": [
    "keepdims=False"
   ]
  },
  {
   "cell_type": "code",
   "execution_count": 19,
   "id": "8db1eba3",
   "metadata": {},
   "outputs": [
    {
     "name": "stdout",
     "output_type": "stream",
     "text": [
      "[20 42 31 23 47 59 40 42 46]\n"
     ]
    }
   ],
   "source": [
    "speed=[20,42,31,23,47,59,40,42,46]\n",
    "a1=np.array(speed)\n",
    "print(a1)"
   ]
  },
  {
   "cell_type": "code",
   "execution_count": 20,
   "id": "ce32b714",
   "metadata": {},
   "outputs": [
    {
     "name": "stdout",
     "output_type": "stream",
     "text": [
      "38.888888888888886\n"
     ]
    }
   ],
   "source": [
    "#Mean=Average value in teh list\n",
    "Mean=np.mean(a1)\n",
    "print(Mean)"
   ]
  },
  {
   "cell_type": "code",
   "execution_count": 21,
   "id": "793d2a44",
   "metadata": {},
   "outputs": [
    {
     "name": "stdout",
     "output_type": "stream",
     "text": [
      "42.0\n"
     ]
    }
   ],
   "source": [
    "#Meadian=The mid point value\n",
    "Median=np.median(a1)\n",
    "print(Median)"
   ]
  },
  {
   "cell_type": "code",
   "execution_count": 22,
   "id": "7ea16331",
   "metadata": {},
   "outputs": [
    {
     "name": "stdout",
     "output_type": "stream",
     "text": [
      "ModeResult(mode=array([42]), count=array([2]))\n"
     ]
    },
    {
     "name": "stderr",
     "output_type": "stream",
     "text": [
      "C:\\Users\\PANKAJ\\AppData\\Local\\Temp\\ipykernel_18028\\2351936465.py:5: FutureWarning: Unlike other reduction functions (e.g. `skew`, `kurtosis`), the default behavior of `mode` typically preserves the axis it acts along. In SciPy 1.11.0, this behavior will change: the default value of `keepdims` will become False, the `axis` over which the statistic is taken will be eliminated, and the value None will no longer be accepted. Set `keepdims` to True or False to avoid this warning.\n",
      "  Mode=stats.mode(a1)\n"
     ]
    }
   ],
   "source": [
    "#Mode=Most common element.\n",
    "#scipy (Scientific Python) has a method mode().\n",
    "# we have to install First scipy and import stats module.\n",
    "from scipy import stats\n",
    "Mode=stats.mode(a1)\n",
    "print(Mode)\n",
    "#in this case a1 42 is the most common element with occurence 2"
   ]
  },
  {
   "cell_type": "code",
   "execution_count": 23,
   "id": "eb6372b8",
   "metadata": {},
   "outputs": [
    {
     "name": "stdout",
     "output_type": "stream",
     "text": [
      "ModeResult(mode=array([5.3]), count=array([2]))\n"
     ]
    },
    {
     "name": "stderr",
     "output_type": "stream",
     "text": [
      "C:\\Users\\PANKAJ\\AppData\\Local\\Temp\\ipykernel_18028\\106359033.py:7: FutureWarning: Unlike other reduction functions (e.g. `skew`, `kurtosis`), the default behavior of `mode` typically preserves the axis it acts along. In SciPy 1.11.0, this behavior will change: the default value of `keepdims` will become False, the `axis` over which the statistic is taken will be eliminated, and the value None will no longer be accepted. Set `keepdims` to True or False to avoid this warning.\n",
      "  Mode=stats.mode(a2)\n"
     ]
    }
   ],
   "source": [
    "#lets take an list of the height of students(most common example)\n",
    "height=[5.0,5.7,5.5,5.3,5.5,5.3,5.8,5.6]\n",
    "#here 5.5 and 5.3 is the most common element\n",
    "#so let's check what Mode function prints coresponding to thi height list\n",
    "a2=np.array(height)\n",
    "# or we can direct write this-->Mode=stats.mode(height)\n",
    "Mode=stats.mode(a2)\n",
    "print(Mode)\n",
    "#so here the mode() prints the most common element whose value is minimum among most common elements(5.5 & 5.3)i.e 5.3"
   ]
  },
  {
   "cell_type": "code",
   "execution_count": 24,
   "id": "f61c84c3",
   "metadata": {},
   "outputs": [
    {
     "name": "stdout",
     "output_type": "stream",
     "text": [
      "ModeResult(mode=array([5000]), count=array([3]))\n"
     ]
    },
    {
     "name": "stderr",
     "output_type": "stream",
     "text": [
      "C:\\Users\\PANKAJ\\AppData\\Local\\Temp\\ipykernel_18028\\1858699630.py:6: FutureWarning: Unlike other reduction functions (e.g. `skew`, `kurtosis`), the default behavior of `mode` typically preserves the axis it acts along. In SciPy 1.11.0, this behavior will change: the default value of `keepdims` will become False, the `axis` over which the statistic is taken will be eliminated, and the value None will no longer be accepted. Set `keepdims` to True or False to avoid this warning.\n",
      "  Mode=stats.mode(salary)\n"
     ]
    }
   ],
   "source": [
    "#we can also do an experiment\n",
    "#let's take a list which contains salaries of different category of employes of an organisation\n",
    "salary=[4000,3500,8000,3500,5000,5000,5000]\n",
    "#here 3500 occurs 2 times and 5000 occurs 3 times\n",
    "#let's find out the output of mode() int his case.\n",
    "Mode=stats.mode(salary)\n",
    "print(Mode)\n",
    "#so here it prints 5000 which is most common element in the list"
   ]
  },
  {
   "cell_type": "code",
   "execution_count": null,
   "id": "9bd11cab",
   "metadata": {},
   "outputs": [],
   "source": []
  }
 ],
 "metadata": {
  "kernelspec": {
   "display_name": "Python 3 (ipykernel)",
   "language": "python",
   "name": "python3"
  },
  "language_info": {
   "codemirror_mode": {
    "name": "ipython",
    "version": 3
   },
   "file_extension": ".py",
   "mimetype": "text/x-python",
   "name": "python",
   "nbconvert_exporter": "python",
   "pygments_lexer": "ipython3",
   "version": "3.11.2"
  }
 },
 "nbformat": 4,
 "nbformat_minor": 5
}
