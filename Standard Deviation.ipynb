{
 "cells": [
  {
   "cell_type": "code",
   "execution_count": 2,
   "id": "c0cdc1a9",
   "metadata": {},
   "outputs": [
    {
     "name": "stdout",
     "output_type": "stream",
     "text": [
      "1.4142135623730951\n"
     ]
    }
   ],
   "source": [
    "#lets take an example for understanding the standard deviation\n",
    "#let's take a list of speeds of cars\n",
    "import numpy as np\n",
    "speed=[85,84,83,82,86]\n",
    "#here we use std() which is in Numpy module to find out the standard deviation of the list\n",
    "sd=np.std(speed)\n",
    "print(sd)\n",
    "#now we get this value.To check the value is correct you can manually do this in your copy using the standard deviation formula."
   ]
  },
  {
   "cell_type": "code",
   "execution_count": 4,
   "id": "f630e181",
   "metadata": {},
   "outputs": [
    {
     "name": "stdout",
     "output_type": "stream",
     "text": [
      "2.0\n"
     ]
    }
   ],
   "source": [
    "#Now talk about variance\n",
    "#interesting thing is that the square of the standard deviation is variance\n",
    "#so we can write this Variance=(StandardDeviation)^2\n",
    "#lets take the above example and find out the variance\n",
    "var=np.var(speed)\n",
    "#in Numpy var() is a method to find out variance\n",
    "print(var)\n"
   ]
  },
  {
   "cell_type": "code",
   "execution_count": null,
   "id": "5622166a",
   "metadata": {},
   "outputs": [],
   "source": []
  }
 ],
 "metadata": {
  "kernelspec": {
   "display_name": "Python 3 (ipykernel)",
   "language": "python",
   "name": "python3"
  },
  "language_info": {
   "codemirror_mode": {
    "name": "ipython",
    "version": 3
   },
   "file_extension": ".py",
   "mimetype": "text/x-python",
   "name": "python",
   "nbconvert_exporter": "python",
   "pygments_lexer": "ipython3",
   "version": "3.11.2"
  }
 },
 "nbformat": 4,
 "nbformat_minor": 5
}
